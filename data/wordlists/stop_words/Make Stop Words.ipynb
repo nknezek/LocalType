{
 "cells": [
  {
   "cell_type": "code",
   "execution_count": 18,
   "metadata": {
    "ExecuteTime": {
     "end_time": "2018-06-12T22:44:12.801922Z",
     "start_time": "2018-06-12T22:44:12.785547Z"
    }
   },
   "outputs": [],
   "source": [
    "# snippet from ~/Library/Jupyter/nbextensions/snippets/snippets.json\n",
    "# basic\n",
    "import numpy as np\n",
    "import matplotlib.pyplot as plt\n",
    "import pandas as pd\n",
    "%matplotlib inline\n",
    "import csv\n",
    "import os, sys\n",
    "import dill\n",
    "import seaborn as sns\n",
    "\n",
    "from nltk.stem.snowball import SnowballStemmer\n",
    "from nltk.tokenize import RegexpTokenizer\n",
    "# re_tokenizer = RegexpTokenizer(r'\\w+')\n",
    "re_tokenizer = RegexpTokenizer(r'[a-zA-Z]+')"
   ]
  },
  {
   "cell_type": "markdown",
   "metadata": {},
   "source": [
    "# Create Stopwords"
   ]
  },
  {
   "cell_type": "code",
   "execution_count": 19,
   "metadata": {
    "ExecuteTime": {
     "end_time": "2018-06-12T22:44:13.743412Z",
     "start_time": "2018-06-12T22:44:13.737438Z"
    }
   },
   "outputs": [],
   "source": [
    "from nltk.corpus import stopwords\n",
    "from nltk.corpus import wordnet\n",
    "stop_words = set(stopwords.words('english'))"
   ]
  },
  {
   "cell_type": "markdown",
   "metadata": {},
   "source": [
    "## Add Months to stopwords"
   ]
  },
  {
   "cell_type": "code",
   "execution_count": 20,
   "metadata": {
    "ExecuteTime": {
     "end_time": "2018-06-12T22:44:14.576926Z",
     "start_time": "2018-06-12T22:44:14.559940Z"
    }
   },
   "outputs": [],
   "source": [
    "month_names = [\n",
    "    'january',\n",
    "    'february',\n",
    "    'march',\n",
    "    'april',\n",
    "    'may',\n",
    "    'june',\n",
    "    'july',\n",
    "    'august',\n",
    "    'september',\n",
    "    'october',\n",
    "    'november',\n",
    "    'december',\n",
    "]\n",
    "month_abbrv = [\n",
    "    'jan',\n",
    "    'feb',\n",
    "    'mar',\n",
    "    'apr',\n",
    "    'may',\n",
    "    'jun',\n",
    "    'jul',\n",
    "    'aug',\n",
    "    'sep',\n",
    "    'oct',\n",
    "    'nov',\n",
    "    'dec',\n",
    "    'sept',\n",
    "]\n",
    "day_names = [\n",
    "    'sunday',\n",
    "    'monday',\n",
    "    'tuesday',\n",
    "    'wednesday',\n",
    "    'thursday',\n",
    "    'friday',\n",
    "    'saturday',\n",
    "    'sunday',\n",
    "]\n",
    "day_abbrv = [\n",
    "    'sun',\n",
    "    'mon',\n",
    "    'tue',\n",
    "    'wed',\n",
    "    'thu',\n",
    "    'fri',\n",
    "    'sat',\n",
    "    'sun',\n",
    "    'tues',\n",
    "    'weds',\n",
    "    'th',\n",
    "    'fr',\n",
    "]\n",
    "\n",
    "stop_words = stop_words.union(month_names)\n",
    "stop_words = stop_words.union(month_abbrv)\n",
    "stop_words = stop_words.union(day_names)\n",
    "stop_words = stop_words.union(day_abbrv)\n",
    "\n",
    "tokenizer = RegexpTokenizer(r'[a-zA-Z]+')\n",
    "stemmer = SnowballStemmer('english')"
   ]
  },
  {
   "cell_type": "code",
   "execution_count": 21,
   "metadata": {
    "ExecuteTime": {
     "end_time": "2018-06-12T22:44:15.248151Z",
     "start_time": "2018-06-12T22:44:15.240800Z"
    }
   },
   "outputs": [
    {
     "data": {
      "text/plain": [
       "221"
      ]
     },
     "execution_count": 21,
     "metadata": {},
     "output_type": "execute_result"
    }
   ],
   "source": [
    "len(stop_words)"
   ]
  },
  {
   "cell_type": "markdown",
   "metadata": {},
   "source": [
    "## Add city names to stopwords"
   ]
  },
  {
   "cell_type": "code",
   "execution_count": 22,
   "metadata": {
    "ExecuteTime": {
     "end_time": "2018-06-12T22:44:16.306364Z",
     "start_time": "2018-06-12T22:44:16.140034Z"
    }
   },
   "outputs": [
    {
     "name": "stdout",
     "output_type": "stream",
     "text": [
      "51 states found\n"
     ]
    },
    {
     "data": {
      "text/plain": [
       "1948"
      ]
     },
     "execution_count": 22,
     "metadata": {},
     "output_type": "execute_result"
    }
   ],
   "source": [
    "alnc_path = '/Users/nknezek/Documents/Insight_local/project/data/ALNC/Cleaned/NewspaperMapCorpus_03_03_2014_cleaned/'\n",
    "\n",
    "states = os.listdir(alnc_path)\n",
    "print('{} states found'.format(len(states)))\n",
    "\n",
    "for st in states:\n",
    "    stop_words.add(st)\n",
    "    towns = os.listdir(alnc_path + st + '/')\n",
    "    for town in towns:\n",
    "        stop_words.add(town.replace('_', ' '))\n",
    "len(stop_words)"
   ]
  },
  {
   "cell_type": "markdown",
   "metadata": {},
   "source": [
    "## Add states and demonyms to stopwords"
   ]
  },
  {
   "cell_type": "code",
   "execution_count": 31,
   "metadata": {
    "ExecuteTime": {
     "end_time": "2018-06-12T22:45:13.504358Z",
     "start_time": "2018-06-12T22:45:13.456334Z"
    }
   },
   "outputs": [],
   "source": [
    "states = [\n",
    "    'Alabama',\n",
    "    'Alaska',\n",
    "    'Arizona',\n",
    "    'Arkansas',\n",
    "    'California',\n",
    "    'Colorado',\n",
    "    'Connecticut',\n",
    "    'Delaware',\n",
    "    'Florida',\n",
    "    'Georgia',\n",
    "    'Hawaii',\n",
    "    'Idaho',\n",
    "    'Illinoi',\n",
    "    'Indiana',\n",
    "    'Iowa',\n",
    "    'Kansas',\n",
    "    'Kentucky',\n",
    "    'Louisiana',\n",
    "    'Maine',\n",
    "    'Maryland',\n",
    "    'Massachusetts',\n",
    "    'Michigan',\n",
    "    'Minnesota',\n",
    "    'Mississippi',\n",
    "    'Missouri',\n",
    "    'Montan',\n",
    "    'Nebraska',\n",
    "    'Nevada',\n",
    "    'New Hampshire',\n",
    "    'New Jersey',\n",
    "    'New Mexico',\n",
    "    'New York',\n",
    "    'North Carolina',\n",
    "    'North Dakota',\n",
    "    'Ohio',\n",
    "    'Oklahoma',\n",
    "    'Oregon',\n",
    "    'Pennsylvania',\n",
    "    'Rhode Island',\n",
    "    'South Carolina',\n",
    "    'South Dakota',\n",
    "    'Tennessee',\n",
    "    'Texas',\n",
    "    'Utah',\n",
    "    'Vermont',\n",
    "    'Virginia',\n",
    "    'Washington',\n",
    "    'West Virginia',\n",
    "    'Wisconsin',\n",
    "    'Wyoming',\n",
    "]\n",
    "stop_words = stop_words.union(states)"
   ]
  },
  {
   "cell_type": "code",
   "execution_count": 33,
   "metadata": {
    "ExecuteTime": {
     "end_time": "2018-06-12T22:45:16.416441Z",
     "start_time": "2018-06-12T22:45:16.360834Z"
    }
   },
   "outputs": [],
   "source": [
    "demonyms = [\n",
    "    'Alabamans ',\n",
    "    'Alabamians',\n",
    "    'Alaskans',\n",
    "    'Arizonans',\n",
    "    'Arkansans',\n",
    "    'Californians',\n",
    "    'Coloradans',\n",
    "    'Coloradoans',\n",
    "    'Connecticuters',\n",
    "    'Nutmeggers',\n",
    "    'Delawareans',\n",
    "    'Floridians',\n",
    "    'Georgians',\n",
    "    'Hawaiian',\n",
    "    'Idahoans',\n",
    "    'Illinoisans',\n",
    "    'Illinoisians',\n",
    "    'Indianan',\n",
    "    'Hoosiers',\n",
    "    'Iowans',\n",
    "    'Kansans',\n",
    "    'Kentuckians',\n",
    "    'Louisianans',\n",
    "    'Louisianians',\n",
    "    'Mainers',\n",
    "    'Down Easters',\n",
    "    'Marylanders',\n",
    "    'Massachusettsan',\n",
    "    'Bay Staters',\n",
    "    'Michiganders',\n",
    "    'Michiganians',\n",
    "    'Minnesotans',\n",
    "    'Mississippians',\n",
    "    'Missourians',\n",
    "    'Montanans',\n",
    "    'Nebraskans',\n",
    "    'Nevadans',\n",
    "    'New Hampshirites',\n",
    "    'New Jerseyites',\n",
    "    'New Jerseyans',\n",
    "    'New Mexicans',\n",
    "    'New Yorkers',\n",
    "    'North Carolinians',\n",
    "    'Tarheels',\n",
    "    'North Dakotans',\n",
    "    'Ohioans',\n",
    "    'Oklahomans',\n",
    "    'Oklahomians',\n",
    "    'Sooners',\n",
    "    'Okies',\n",
    "    'Oregonians',\n",
    "    'Pennsylvanians',\n",
    "    'Rhode Islanders',\n",
    "    'South Carolinians',\n",
    "    'South Dakotans',\n",
    "    'Tennesseeans',\n",
    "    'Texans',\n",
    "    'Utahns',\n",
    "    'Utahans',\n",
    "    'Vermonters',\n",
    "    'Virginians',\n",
    "    'Washingtonians',\n",
    "    'West Virginians',\n",
    "    'Wisconsinites',\n",
    "    'Wyomingites',\n",
    "]\n",
    "stop_words = stop_words.union(demonyms)"
   ]
  },
  {
   "cell_type": "markdown",
   "metadata": {},
   "source": [
    "## Add journalism words to stopwords"
   ]
  },
  {
   "cell_type": "code",
   "execution_count": 41,
   "metadata": {
    "ExecuteTime": {
     "end_time": "2018-06-12T22:46:26.802174Z",
     "start_time": "2018-06-12T22:46:26.785877Z"
    }
   },
   "outputs": [],
   "source": [
    "jwords = [\n",
    "    'print',\n",
    "    'writer',\n",
    "    'author',\n",
    "    'daily',\n",
    "    'times',\n",
    "    'record',\n",
    "    'chronicle',\n",
    "    'font',\n",
    "    'publish',\n",
    "    'story',\n",
    "    'planet',\n",
    "    'comment',\n",
    "    'blotter',\n",
    "    'via',\n",
    "    'photo',\n",
    "    'picture',\n",
    "    'donate',\n",
    "    'staff',\n",
    "    'reporter',\n",
    "    'www',\n",
    "    'com',\n",
    "    'pm',\n",
    "    'am',\n",
    "    'email',\n",
    "    'update',\n",
    "    'columnist',\n",
    "]\n",
    "stop_words = stop_words.union(jwords)"
   ]
  },
  {
   "cell_type": "markdown",
   "metadata": {},
   "source": [
    "# Convert words to stems"
   ]
  },
  {
   "cell_type": "code",
   "execution_count": 42,
   "metadata": {
    "ExecuteTime": {
     "end_time": "2018-06-12T22:46:27.382335Z",
     "start_time": "2018-06-12T22:46:27.297790Z"
    }
   },
   "outputs": [
    {
     "data": {
      "text/plain": [
       "1994"
      ]
     },
     "execution_count": 42,
     "metadata": {},
     "output_type": "execute_result"
    }
   ],
   "source": [
    "stop_stems = set()\n",
    "for w in stop_words:\n",
    "    ts = tokenizer.tokenize(w.lower())\n",
    "    for t in ts:\n",
    "        stm = stemmer.stem(t)\n",
    "        if stm not in stop_stems:\n",
    "            stop_stems.add(stm)\n",
    "len(stop_stems)"
   ]
  },
  {
   "cell_type": "code",
   "execution_count": 46,
   "metadata": {
    "ExecuteTime": {
     "end_time": "2018-06-12T22:46:53.905281Z",
     "start_time": "2018-06-12T22:46:53.843571Z"
    }
   },
   "outputs": [],
   "source": [
    "dill.dump(stop_stems,open(\"/Users/nknezek/Documents/Insight_local/project/data/wordlists/stop_words/stop_stems.m\",'wb'))\n",
    "dill.dump(stop_words,open(\"/Users/nknezek/Documents/Insight_local/project/data/wordlists/stop_words/stop_words.m\",'wb'))"
   ]
  },
  {
   "cell_type": "code",
   "execution_count": null,
   "metadata": {},
   "outputs": [],
   "source": []
  },
  {
   "cell_type": "code",
   "execution_count": null,
   "metadata": {},
   "outputs": [],
   "source": []
  }
 ],
 "metadata": {
  "kernelspec": {
   "display_name": "Python 3",
   "language": "python",
   "name": "python3"
  },
  "language_info": {
   "codemirror_mode": {
    "name": "ipython",
    "version": 3
   },
   "file_extension": ".py",
   "mimetype": "text/x-python",
   "name": "python",
   "nbconvert_exporter": "python",
   "pygments_lexer": "ipython3",
   "version": "3.6.5"
  },
  "toc": {
   "base_numbering": 1,
   "nav_menu": {},
   "number_sections": true,
   "sideBar": true,
   "skip_h1_title": false,
   "title_cell": "Table of Contents",
   "title_sidebar": "Contents",
   "toc_cell": false,
   "toc_position": {
    "height": "calc(100% - 180px)",
    "left": "10px",
    "top": "150px",
    "width": "250px"
   },
   "toc_section_display": true,
   "toc_window_display": true
  },
  "varInspector": {
   "cols": {
    "lenName": 16,
    "lenType": 16,
    "lenVar": 40
   },
   "kernels_config": {
    "python": {
     "delete_cmd_postfix": "",
     "delete_cmd_prefix": "del ",
     "library": "var_list.py",
     "varRefreshCmd": "print(var_dic_list())"
    },
    "r": {
     "delete_cmd_postfix": ") ",
     "delete_cmd_prefix": "rm(",
     "library": "var_list.r",
     "varRefreshCmd": "cat(var_dic_list()) "
    }
   },
   "types_to_exclude": [
    "module",
    "function",
    "builtin_function_or_method",
    "instance",
    "_Feature"
   ],
   "window_display": false
  }
 },
 "nbformat": 4,
 "nbformat_minor": 2
}
