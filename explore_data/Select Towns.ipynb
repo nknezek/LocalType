{
 "cells": [
  {
   "cell_type": "code",
   "execution_count": 2,
   "metadata": {
    "ExecuteTime": {
     "end_time": "2018-06-22T15:26:01.609491Z",
     "start_time": "2018-06-22T15:25:59.780662Z"
    }
   },
   "outputs": [],
   "source": [
    "# snippet from ~/Library/Jupyter/nbextensions/snippets/snippets.json\n",
    "# basic\n",
    "import numpy as np\n",
    "import matplotlib.pyplot as plt\n",
    "import pandas as pd\n",
    "%matplotlib inline\n",
    "import csv\n",
    "import os, sys\n",
    "import dill\n",
    "import seaborn as sns\n",
    "\n",
    "from nltk.stem.snowball import SnowballStemmer\n",
    "from nltk.tokenize import RegexpTokenizer\n",
    "# re_tokenizer = RegexpTokenizer(r'\\w+')\n",
    "re_tokenizer = RegexpTokenizer(r'[a-zA-Z]+')"
   ]
  },
  {
   "cell_type": "markdown",
   "metadata": {},
   "source": [
    "# Get number of towns"
   ]
  },
  {
   "cell_type": "code",
   "execution_count": 2,
   "metadata": {
    "ExecuteTime": {
     "end_time": "2018-06-19T00:08:07.806658Z",
     "start_time": "2018-06-19T00:08:07.801697Z"
    }
   },
   "outputs": [],
   "source": [
    "alnc_path = '/Users/nknezek/Documents/Insight_local/project/data/ALNC/Cleaned/NewspaperMapCorpus_03_03_2014_cleaned/'"
   ]
  },
  {
   "cell_type": "code",
   "execution_count": 3,
   "metadata": {
    "ExecuteTime": {
     "end_time": "2018-06-19T00:08:07.853002Z",
     "start_time": "2018-06-19T00:08:07.842636Z"
    }
   },
   "outputs": [
    {
     "name": "stdout",
     "output_type": "stream",
     "text": [
      "51 states found\n"
     ]
    }
   ],
   "source": [
    "states = os.listdir(alnc_path)\n",
    "print('{} states found'.format(len(states)))"
   ]
  },
  {
   "cell_type": "code",
   "execution_count": 4,
   "metadata": {
    "ExecuteTime": {
     "end_time": "2018-06-19T00:08:08.016466Z",
     "start_time": "2018-06-19T00:08:07.879751Z"
    }
   },
   "outputs": [],
   "source": [
    "towns = {}\n",
    "town_counts = []\n",
    "for st in states:\n",
    "    towns[st] = os.listdir(alnc_path+st+'/')\n",
    "    town_counts.append(len(towns[st]))\n",
    "#     print('{} towns in {}'.format(len(towns[st]),st))"
   ]
  },
  {
   "cell_type": "code",
   "execution_count": 5,
   "metadata": {
    "ExecuteTime": {
     "end_time": "2018-06-12T16:33:06.274941Z",
     "start_time": "2018-06-12T16:33:05.761510Z"
    }
   },
   "outputs": [
    {
     "data": {
      "image/png": "[encoded data removed]",
      "text/plain": [
       "<Figure size 432x288 with 1 Axes>"
      ]
     },
     "metadata": {},
     "output_type": "display_data"
    }
   ],
   "source": [
    "plt.hist(town_counts,bins=np.linspace(0,150,16))\n",
    "plt.xlabel('# towns')\n",
    "plt.ylabel('# states / # towns')\n",
    "plt.title(\"Histogram of towns per state\")\n",
    "plt.savefig('towns_per_state.pdf')"
   ]
  },
  {
   "cell_type": "code",
   "execution_count": 18,
   "metadata": {
    "ExecuteTime": {
     "end_time": "2018-06-12T16:44:15.588415Z",
     "start_time": "2018-06-12T16:44:15.578751Z"
    }
   },
   "outputs": [
    {
     "name": "stdout",
     "output_type": "stream",
     "text": [
      "38.05882352941177 28.0 162 4\n",
      "[('DC', 4), ('DE', 6), ('HI', 6), ('NV', 6), ('WY', 8), ('ME', 10), ('RI', 10), ('AK', 11), ('ID', 12), ('NM', 12), ('VT', 12), ('MD', 13), ('ND', 14), ('NH', 16), ('SD', 17), ('MT', 18), ('UT', 19), ('MS', 19), ('SC', 20), ('WV', 20), ('NE', 21), ('LA', 22), ('KY', 24), ('CT', 27), ('AL', 27), ('OK', 28), ('NJ', 30), ('AZ', 31), ('TN', 31), ('OR', 32), ('MO', 36), ('CO', 36), ('WA', 37), ('GA', 41), ('IA', 42), ('IN', 46), ('AR', 48), ('KS', 50), ('WI', 52), ('NC', 53), ('VA', 54), ('MI', 58), ('FL', 59), ('MA', 74), ('IL', 84), ('PA', 90), ('OH', 91), ('NY', 94), ('MN', 97), ('TX', 111), ('CA', 162)]\n"
     ]
    }
   ],
   "source": [
    "mean = np.mean(town_counts)\n",
    "med = np.median(town_counts)\n",
    "mx = np.max(town_counts)\n",
    "mn = np.min(town_counts)\n",
    "print(mean,med,mx,mn)\n",
    "sortedstates = np.array(states)[np.argsort(town_counts)]\n",
    "sortedcounts = sorted(town_counts)\n",
    "print([x for x in zip(sortedstates,sortedcounts)])"
   ]
  },
  {
   "cell_type": "markdown",
   "metadata": {},
   "source": [
    "# Get papers in towns"
   ]
  },
  {
   "cell_type": "code",
   "execution_count": 19,
   "metadata": {
    "ExecuteTime": {
     "end_time": "2018-06-12T16:44:20.938626Z",
     "start_time": "2018-06-12T16:44:18.843246Z"
    }
   },
   "outputs": [
    {
     "name": "stdout",
     "output_type": "stream",
     "text": [
      "New_York, NY has most papers at 21\n",
      "176 towns have >1 paper\n",
      "56 towns have >2 papers\n"
     ]
    }
   ],
   "source": [
    "papers = {}\n",
    "paper_counts = {}\n",
    "raw_paper_counts = []\n",
    "max_ps = 0\n",
    "g1_papers_towns = []\n",
    "g1_papers_counts = []\n",
    "for st in states:\n",
    "    paper_counts[st] = []\n",
    "    papers[st] = {}\n",
    "    for tn in towns[st]:\n",
    "        ps = os.listdir(alnc_path+st+'/'+tn+'/')\n",
    "        papers[st][tn] = ps\n",
    "        paper_counts[st].append(len(ps))\n",
    "        raw_paper_counts.append(len(ps))\n",
    "        if len(ps) > max_ps:\n",
    "            max_papers_town = tn+', '+st\n",
    "            max_ps = len(ps)\n",
    "        if len(ps) > 1:\n",
    "            g1_papers_towns.append(tn+', '+st)\n",
    "            g1_papers_counts.append(len(ps))\n",
    "\n",
    "print('{} has most papers at {}'.format(max_papers_town, max_ps))\n",
    "print('{} towns have >1 paper'.format(len(g1_papers_towns)))\n",
    "print('{} towns have >2 papers'.format(sum([1 for x in g1_papers_counts if x>2])))"
   ]
  },
  {
   "cell_type": "code",
   "execution_count": 71,
   "metadata": {
    "ExecuteTime": {
     "end_time": "2018-06-12T02:22:39.224652Z",
     "start_time": "2018-06-12T02:22:39.199400Z"
    },
    "collapsed": true
   },
   "outputs": [
    {
     "data": {
      "text/plain": [
       "[('Barre, VT', 3),\n",
       " ('Richmond, VA', 2),\n",
       " ('Norfolk, VA', 2),\n",
       " ('Arlington, VA', 2),\n",
       " ('Alexandria, VA', 2),\n",
       " ('Warrenton, VA', 2),\n",
       " ('Charlottesville, VA', 3),\n",
       " ('Rapid_City, SD', 2),\n",
       " ('Beaufort, SC', 2),\n",
       " ('Columbia, SC', 2),\n",
       " ('Charleston, SC', 3),\n",
       " ('Salt_Lake_City, UT', 4),\n",
       " ('Moab, UT', 2),\n",
       " ('Provo, UT', 2),\n",
       " ('Atlanta, GA', 2),\n",
       " ('Columbus, GA', 2),\n",
       " ('Macon, GA', 2),\n",
       " ('Augusta, GA', 2),\n",
       " ('Athens, GA', 2),\n",
       " ('Tupelo, MS', 2),\n",
       " ('Kalispell, MT', 2),\n",
       " ('Billings, MT', 3),\n",
       " ('Jefferson_City, MO', 2),\n",
       " ('Columbia, MO', 2),\n",
       " ('St_Louis, MO', 4),\n",
       " ('Kansas_City, MO', 2),\n",
       " ('Worcester, MA', 2),\n",
       " ('New_Bedford, MA', 2),\n",
       " ('Hyannis, MA', 2),\n",
       " ('Framingham, MA', 2),\n",
       " ('Boston, MA', 6),\n",
       " ('North_Andover, MA', 2),\n",
       " ('Anchorage, AK', 2),\n",
       " ('Louisville, KY', 2),\n",
       " ('Montgomery, AL', 2),\n",
       " ('Anniston, AL', 2),\n",
       " ('Winona, MN', 2),\n",
       " ('Minneapolis, MN', 6),\n",
       " ('Detroit, MI', 4),\n",
       " ('Monroe, MI', 2),\n",
       " ('Grand_Rapids, MI', 2),\n",
       " ('East_Lansing, MI', 2),\n",
       " ('Traverse_City, MI', 3),\n",
       " ('Ada, OK', 2),\n",
       " ('Norman, OK', 2),\n",
       " ('Tulsa, OK', 4),\n",
       " ('Greensburg, IN', 2),\n",
       " ('Indianapolis, IN', 3),\n",
       " ('Fort_Wayne, IN', 3),\n",
       " ('Telluride, CO', 2),\n",
       " ('Aspen, CO', 2),\n",
       " ('Vail, CO', 2),\n",
       " ('Denver, CO', 3),\n",
       " ('Boulder, CO', 3),\n",
       " ('Grand_Junction, CO', 2),\n",
       " ('Colorado_Springs, CO', 3),\n",
       " ('Berkeley, CA', 3),\n",
       " ('San_Mateo, CA', 2),\n",
       " ('Carmel, CA', 2),\n",
       " ('Santa_Maria, CA', 2),\n",
       " ('Fresno, CA', 2),\n",
       " ('Santa_Barbara, CA', 3),\n",
       " ('San_Jose, CA', 2),\n",
       " ('Alameda, CA', 2),\n",
       " ('Palo_Alto, CA', 2),\n",
       " ('Hollister, CA', 2),\n",
       " ('Victorville, CA', 2),\n",
       " ('San_Francisco, CA', 4),\n",
       " ('Los_Angeles, CA', 4),\n",
       " ('Scotts_Valley, CA', 2),\n",
       " ('Long_Beach, CA', 2),\n",
       " ('San_Luis_Obispo, CA', 3),\n",
       " ('San_Diego, CA', 4),\n",
       " ('Huntington_Beach, CA', 2),\n",
       " ('Chico, CA', 2),\n",
       " ('Davenport, IA', 3),\n",
       " ('Norwalk, CT', 2),\n",
       " ('Hartford, CT', 2),\n",
       " ('Bridgeport, CT', 2),\n",
       " ('New_Haven, CT', 2),\n",
       " ('Key_West, FL', 2),\n",
       " ('Palm_Beach, FL', 2),\n",
       " ('Daytona_Beach, FL', 2),\n",
       " ('Orlando, FL', 2),\n",
       " ('Fort_Lauderdale, FL', 2),\n",
       " ('Ocala, FL', 2),\n",
       " ('Tampa, FL', 3),\n",
       " ('Miami, FL', 3),\n",
       " ('Charlotte_Harbor, FL', 2),\n",
       " ('Gainesville, FL', 2),\n",
       " ('Wheeling, WV', 2),\n",
       " ('Wakefield, RI', 2),\n",
       " ('Providence, RI', 3),\n",
       " ('Austin, TX', 5),\n",
       " ('Lake_Dallas, TX', 2),\n",
       " ('Beaumont, TX', 2),\n",
       " ('Houston, TX', 4),\n",
       " ('Fort_Worth, TX', 2),\n",
       " ('Dallas, TX', 3),\n",
       " ('State_College, PA', 2),\n",
       " ('Ephrata, PA', 2),\n",
       " ('Wilkes-Barre, PA', 3),\n",
       " ('Stroudsburg, PA', 2),\n",
       " ('Lancaster, PA', 2),\n",
       " ('Philadelphia, PA', 11),\n",
       " ('Scranton, PA', 2),\n",
       " ('Pittsburgh, PA', 2),\n",
       " ('York, PA', 3),\n",
       " ('Asheville, NC', 2),\n",
       " ('Boone, NC', 2),\n",
       " ('Charlotte, NC', 3),\n",
       " ('Las_Cruces, NM', 2),\n",
       " ('Albuquerque, NM', 2),\n",
       " ('Princeton, NJ', 2),\n",
       " ('Trenton, NJ', 2),\n",
       " ('Hackensack, NJ', 2),\n",
       " ('Fayetteville, AR', 2),\n",
       " ('Little_Rock, AR', 2),\n",
       " ('Anchorage, AR', 2),\n",
       " ('Las_Vegas, NV', 4),\n",
       " ('Carson_City, NV', 2),\n",
       " ('Washington_D.C., DC', 3),\n",
       " ('Washington, DC', 4),\n",
       " ('Gaithersburg, MD', 2),\n",
       " ('Baltimore, MD', 6),\n",
       " ('Salisbury, MD', 2),\n",
       " ('Lawrence, KS', 3),\n",
       " ('Dodge_City, KS', 4),\n",
       " ('Honolulu, HI', 3),\n",
       " ('Phoenix, AZ', 4),\n",
       " ('Tucson, AZ', 6),\n",
       " ('Bullhead_City, AZ', 2),\n",
       " ('Prescott, AZ', 2),\n",
       " ('Flagstaff, AZ', 2),\n",
       " ('Ithaca, NY', 3),\n",
       " ('New_York, NY', 21),\n",
       " ('Bayside, NY', 2),\n",
       " ('Rochester, NY', 2),\n",
       " ('Ridgewood, NY', 2),\n",
       " ('Fresh_Meadows, NY', 2),\n",
       " ('Astoria, NY', 2),\n",
       " ('Garden_City, NY', 2),\n",
       " ('Buffalo, NY', 4),\n",
       " ('Albany, NY', 2),\n",
       " ('Glen_Cove, NY', 2),\n",
       " ('Brooklyn, NY', 2),\n",
       " ('Oswego, NY', 2),\n",
       " ('Middletown, NY', 2),\n",
       " ('Boise, ID', 2),\n",
       " ('Massillon, OH', 2),\n",
       " ('Toledo, OH', 3),\n",
       " ('Columbus, OH', 4),\n",
       " ('Cincinnati, OH', 3),\n",
       " ('Cleveland, OH', 4),\n",
       " ('Akron, OH', 2),\n",
       " ('Middletown, OH', 2),\n",
       " ('Athens, OH', 2),\n",
       " ('Portland, OR', 4),\n",
       " ('Eugene, OR', 2),\n",
       " ('Salem, OR', 2),\n",
       " ('Tillamook, OR', 2),\n",
       " ('Glenview, IL', 2),\n",
       " ('Winnetka, IL', 2),\n",
       " ('Chicago, IL', 3),\n",
       " ('Galesburg, IL', 2),\n",
       " ('Centralia, IL', 2),\n",
       " ('Stevens_Point, WI', 2),\n",
       " ('Madison, WI', 3),\n",
       " ('Sheboygan, WI', 2),\n",
       " ('Milwaukee, WI', 2),\n",
       " ('Seattle, WA', 5),\n",
       " ('Tacoma, WA', 2),\n",
       " ('Chattanooga, TN', 2),\n",
       " ('Knoxville, TN', 3),\n",
       " ('Nashville, TN', 3),\n",
       " ('Memphis, TN', 3)]"
      ]
     },
     "execution_count": 71,
     "metadata": {},
     "output_type": "execute_result"
    }
   ],
   "source": [
    "[x for x in zip(g1_papers_towns,g1_papers_counts)]"
   ]
  },
  {
   "cell_type": "code",
   "execution_count": 59,
   "metadata": {
    "ExecuteTime": {
     "end_time": "2018-06-12T02:16:04.057330Z",
     "start_time": "2018-06-12T02:16:02.878349Z"
    }
   },
   "outputs": [
    {
     "data": {
      "image/png": "[encoded data removed]",
      "text/plain": [
       "<Figure size 432x288 with 1 Axes>"
      ]
     },
     "metadata": {},
     "output_type": "display_data"
    }
   ],
   "source": [
    "plt.hist(raw_paper_counts,bins=np.linspace(.5,22.5,23), log=True)\n",
    "plt.grid()\n",
    "plt.xlabel('# papers')\n",
    "plt.ylabel('# towns / # papers')\n",
    "plt.title(\"Histogram of papers per town\")\n",
    "plt.savefig('papers_per_town_log.pdf')"
   ]
  },
  {
   "cell_type": "code",
   "execution_count": 58,
   "metadata": {
    "ExecuteTime": {
     "end_time": "2018-06-12T02:15:49.821450Z",
     "start_time": "2018-06-12T02:15:49.374457Z"
    }
   },
   "outputs": [
    {
     "data": {
      "image/png": "[encoded data removed]",
      "text/plain": [
       "<Figure size 432x288 with 1 Axes>"
      ]
     },
     "metadata": {},
     "output_type": "display_data"
    }
   ],
   "source": [
    "plt.hist(raw_paper_counts,bins=np.linspace(.5,22.5,23))\n",
    "plt.grid()\n",
    "plt.xlabel('# papers')\n",
    "plt.ylabel('# towns / # papers')\n",
    "plt.title(\"Histogram of papers per town\")\n",
    "plt.savefig('papers_per_town_linear.pdf')"
   ]
  },
  {
   "cell_type": "markdown",
   "metadata": {},
   "source": [
    "# Articles per paper"
   ]
  },
  {
   "cell_type": "code",
   "execution_count": 20,
   "metadata": {
    "ExecuteTime": {
     "end_time": "2018-06-12T16:45:47.041923Z",
     "start_time": "2018-06-12T16:44:30.301778Z"
    }
   },
   "outputs": [
    {
     "name": "stdout",
     "output_type": "stream",
     "text": [
      "8695171 articles total\n"
     ]
    }
   ],
   "source": [
    "article_counts = {}\n",
    "raw_article_counts = []\n",
    "max_ps = 0\n",
    "g1_papers_towns = []\n",
    "g1_papers_counts = []\n",
    "for st in states:\n",
    "    article_counts[st] = {}\n",
    "    for tn in towns[st]:\n",
    "        ps = os.listdir(alnc_path+st+'/'+tn+'/')\n",
    "        article_counts[st][tn] = []\n",
    "        for p in papers[st][tn]:\n",
    "            ac = len(os.listdir(alnc_path+st+'/'+tn+'/'+p+'/'))\n",
    "            article_counts[st][tn].append(ac)\n",
    "            raw_article_counts.append(ac)\n",
    "\n",
    "print('{} articles total'.format(sum(raw_article_counts)))\n",
    "# print('{} towns have >1 paper'.format(len(g1_papers_towns)))\n",
    "# print('{} towns have >2 papers'.format(sum([1 for x in g1_papers_counts if x>2])))"
   ]
  },
  {
   "cell_type": "code",
   "execution_count": 21,
   "metadata": {
    "ExecuteTime": {
     "end_time": "2018-06-12T16:45:47.574064Z",
     "start_time": "2018-06-12T16:45:47.565548Z"
    }
   },
   "outputs": [],
   "source": [
    "article_per_towns = []\n",
    "for st in states:\n",
    "    for tn in towns[st]:\n",
    "        article_per_towns.append(sum(article_counts[st][tn]))"
   ]
  },
  {
   "cell_type": "code",
   "execution_count": 104,
   "metadata": {
    "ExecuteTime": {
     "end_time": "2018-06-12T04:39:21.564559Z",
     "start_time": "2018-06-12T04:39:20.310074Z"
    }
   },
   "outputs": [
    {
     "data": {
      "image/png": "[encoded data removed]",
      "text/plain": [
       "<Figure size 432x288 with 1 Axes>"
      ]
     },
     "metadata": {},
     "output_type": "display_data"
    }
   ],
   "source": [
    "plt.hist(article_per_towns,bins=np.linspace(0,50000,50),log=True)\n",
    "plt.grid()\n",
    "plt.xlabel('# articles')\n",
    "plt.ylabel('# towns / # articles')\n",
    "plt.title(\"Histogram of articles per town\")\n",
    "plt.savefig('articles_per_town_log.pdf')"
   ]
  },
  {
   "cell_type": "code",
   "execution_count": 107,
   "metadata": {
    "ExecuteTime": {
     "end_time": "2018-06-12T04:39:58.108508Z",
     "start_time": "2018-06-12T04:39:57.492331Z"
    }
   },
   "outputs": [
    {
     "data": {
      "image/png": "[encoded data removed]",
      "text/plain": [
       "<Figure size 432x288 with 1 Axes>"
      ]
     },
     "metadata": {},
     "output_type": "display_data"
    }
   ],
   "source": [
    "plt.hist(article_per_towns,bins=np.linspace(0,50000,50),log=False)\n",
    "plt.grid()\n",
    "plt.xlabel('# articles')\n",
    "plt.ylabel('# towns / # articles')\n",
    "plt.title(\"Histogram of articles per town\")\n",
    "plt.savefig('articles_per_town_linear.pdf')"
   ]
  },
  {
   "cell_type": "code",
   "execution_count": 112,
   "metadata": {
    "ExecuteTime": {
     "end_time": "2018-06-12T04:41:21.483460Z",
     "start_time": "2018-06-12T04:41:20.934768Z"
    }
   },
   "outputs": [
    {
     "data": {
      "image/png": "[encoded data removed]",
      "text/plain": [
       "<Figure size 432x288 with 1 Axes>"
      ]
     },
     "metadata": {},
     "output_type": "display_data"
    }
   ],
   "source": [
    "plt.hist(article_per_towns,bins=np.linspace(0,200,41),log=False)\n",
    "plt.grid()\n",
    "plt.xlabel('# articles')\n",
    "plt.ylabel('# towns / # articles')\n",
    "plt.title(\"Histogram of articles per town\")\n",
    "plt.savefig('articles_per_town_linear_zoom.pdf')"
   ]
  },
  {
   "cell_type": "code",
   "execution_count": 114,
   "metadata": {
    "ExecuteTime": {
     "end_time": "2018-06-12T14:11:00.475773Z",
     "start_time": "2018-06-12T14:10:59.895999Z"
    }
   },
   "outputs": [
    {
     "data": {
      "image/png": "[encoded data removed]",
      "text/plain": [
       "<Figure size 432x288 with 1 Axes>"
      ]
     },
     "metadata": {},
     "output_type": "display_data"
    }
   ],
   "source": [
    "plt.hist(article_per_towns,bins=np.linspace(2000,50000,41),log=False)\n",
    "plt.grid()\n",
    "plt.xlabel('# articles')\n",
    "plt.ylabel('# towns / # articles')\n",
    "plt.title(\"Histogram of articles per town\")\n",
    "plt.savefig('articles_per_town_linear_cutoff.pdf')"
   ]
  },
  {
   "cell_type": "markdown",
   "metadata": {},
   "source": [
    "# Words per article"
   ]
  },
  {
   "cell_type": "code",
   "execution_count": 5,
   "metadata": {
    "ExecuteTime": {
     "end_time": "2018-06-19T00:08:14.885745Z",
     "start_time": "2018-06-19T00:08:14.575367Z"
    }
   },
   "outputs": [
    {
     "ename": "FileNotFoundError",
     "evalue": "[Errno 2] No such file or directory: '/Users/nknezek/Documents/Insight Local Folder/regional news/wordlists/stop_stems.m'",
     "output_type": "error",
     "traceback": [
      "\u001b[0;31m---------------------------------------------------------------------------\u001b[0m",
      "\u001b[0;31mFileNotFoundError\u001b[0m                         Traceback (most recent call last)",
      "\u001b[0;32m<ipython-input-5-d49329361c15>\u001b[0m in \u001b[0;36m<module>\u001b[0;34m()\u001b[0m\n\u001b[0;32m----> 1\u001b[0;31m \u001b[0mstop_stems\u001b[0m \u001b[0;34m=\u001b[0m \u001b[0mdill\u001b[0m\u001b[0;34m.\u001b[0m\u001b[0mload\u001b[0m\u001b[0;34m(\u001b[0m\u001b[0mopen\u001b[0m\u001b[0;34m(\u001b[0m\u001b[0;34m\"/Users/nknezek/Documents/Insight Local Folder/regional news/wordlists/stop_stems.m\"\u001b[0m\u001b[0;34m,\u001b[0m\u001b[0;34m'rb'\u001b[0m\u001b[0;34m)\u001b[0m\u001b[0;34m)\u001b[0m\u001b[0;34m\u001b[0m\u001b[0m\n\u001b[0m\u001b[1;32m      2\u001b[0m \u001b[0mstop_words\u001b[0m \u001b[0;34m=\u001b[0m \u001b[0mdill\u001b[0m\u001b[0;34m.\u001b[0m\u001b[0mload\u001b[0m\u001b[0;34m(\u001b[0m\u001b[0mopen\u001b[0m\u001b[0;34m(\u001b[0m\u001b[0;34m\"/Users/nknezek/Documents/Insight Local Folder/regional news/wordlists/stop_words.m\"\u001b[0m\u001b[0;34m,\u001b[0m\u001b[0;34m'rb'\u001b[0m\u001b[0;34m)\u001b[0m\u001b[0;34m)\u001b[0m\u001b[0;34m\u001b[0m\u001b[0m\n\u001b[1;32m      3\u001b[0m \u001b[0mgo_stems\u001b[0m \u001b[0;34m=\u001b[0m \u001b[0mdill\u001b[0m\u001b[0;34m.\u001b[0m\u001b[0mload\u001b[0m\u001b[0;34m(\u001b[0m\u001b[0mopen\u001b[0m\u001b[0;34m(\u001b[0m\u001b[0;34m\"/Users/nknezek/Documents/Insight Local Folder/regional news/wordlists/SCOWL-custom/stems.m\"\u001b[0m\u001b[0;34m,\u001b[0m\u001b[0;34m'rb'\u001b[0m\u001b[0;34m)\u001b[0m\u001b[0;34m)\u001b[0m\u001b[0;34m\u001b[0m\u001b[0m\n\u001b[1;32m      4\u001b[0m \u001b[0mtokenizer\u001b[0m \u001b[0;34m=\u001b[0m \u001b[0mRegexpTokenizer\u001b[0m\u001b[0;34m(\u001b[0m\u001b[0;34mr'[a-zA-Z]+'\u001b[0m\u001b[0;34m)\u001b[0m\u001b[0;34m\u001b[0m\u001b[0m\n\u001b[1;32m      5\u001b[0m \u001b[0mstemmer\u001b[0m \u001b[0;34m=\u001b[0m \u001b[0mSnowballStemmer\u001b[0m\u001b[0;34m(\u001b[0m\u001b[0;34m'english'\u001b[0m\u001b[0;34m)\u001b[0m\u001b[0;34m\u001b[0m\u001b[0m\n",
      "\u001b[0;31mFileNotFoundError\u001b[0m: [Errno 2] No such file or directory: '/Users/nknezek/Documents/Insight Local Folder/regional news/wordlists/stop_stems.m'"
     ]
    }
   ],
   "source": [
    "stop_stems = dill.load(open(\"/Users/nknezek/Documents/Insight Local Folder/regional news/wordlists/stop_stems.m\",'rb'))\n",
    "stop_words = dill.load(open(\"/Users/nknezek/Documents/Insight Local Folder/regional news/wordlists/stop_words.m\",'rb'))\n",
    "go_stems = dill.load(open(\"/Users/nknezek/Documents/Insight Local Folder/regional news/wordlists/SCOWL-custom/stems.m\",'rb'))\n",
    "tokenizer = RegexpTokenizer(r'[a-zA-Z]+')\n",
    "stemmer = SnowballStemmer('english')\n"
   ]
  },
  {
   "cell_type": "code",
   "execution_count": 26,
   "metadata": {
    "ExecuteTime": {
     "end_time": "2018-06-12T16:48:52.233452Z",
     "start_time": "2018-06-12T16:48:52.226964Z"
    }
   },
   "outputs": [],
   "source": [
    "def tokenize_article_content_for_length(text_string, tokenizer, stop_words, stemmer, verbose=False, ):\n",
    "    \"\"\"\n",
    "    Simple preprocessing pipeline which uses RegExp, sets basic token requirements, and removes stop words.\n",
    "    \"\"\"    \n",
    "    # process articles\n",
    "    cleaned_stems = []\n",
    "    tokens = tokenizer.tokenize(text_string.lower())\n",
    "    for token in tokens:\n",
    "        stem = stemmer.stem(token)\n",
    "        if (stem not in stop_stems):\n",
    "            if stem in go_stems:\n",
    "                if len(token) > 0 and len(token) < 20: # removes non words\n",
    "                    cleaned_stems.append(stem)\n",
    "    return len(cleaned_stems)"
   ]
  },
  {
   "cell_type": "code",
   "execution_count": 28,
   "metadata": {
    "ExecuteTime": {
     "end_time": "2018-06-12T17:07:58.529927Z",
     "start_time": "2018-06-12T16:49:27.681480Z"
    }
   },
   "outputs": [],
   "source": [
    "word_counts = {}\n",
    "word_counts_raw = {}\n",
    "for st in states:\n",
    "    word_counts[st] = {}\n",
    "    word_counts_raw[st] = {}\n",
    "    for tn in towns[st]:\n",
    "        word_counts[st][tn] = []\n",
    "        word_counts_raw[st][tn] = []\n",
    "        for p in papers[st][tn]:\n",
    "            arps = os.listdir(alnc_path+st+'/'+tn+'/'+p+'/')\n",
    "            for i in range(0,len(arps),100):\n",
    "                file_path = alnc_path+st+'/'+tn+'/'+p+'/'+arps[i]\n",
    "                try:\n",
    "                    with open(file_path, 'r') as content_file:\n",
    "                        raw_text = content_file.read()\n",
    "                    word_counts_raw[st][tn].append( len(tokenizer.tokenize(raw_text)))\n",
    "                    word_counts[st][tn].append(tokenize_article_content_for_length(raw_text, tokenizer=tokenizer, stop_words=stop_words, stemmer=stemmer))\n",
    "                except:\n",
    "                    print('error'+st+'/'+tn+'/'+p)"
   ]
  },
  {
   "cell_type": "code",
   "execution_count": 30,
   "metadata": {
    "ExecuteTime": {
     "end_time": "2018-06-12T18:19:16.365009Z",
     "start_time": "2018-06-12T18:19:16.356094Z"
    }
   },
   "outputs": [],
   "source": [
    "word_counts_all = []\n",
    "word_counts_raw_all = []\n",
    "for st in states:\n",
    "    for tn in towns[st]:\n",
    "        word_counts_all += word_counts[st][tn]\n",
    "        word_counts_raw_all += word_counts_raw[st][tn]"
   ]
  },
  {
   "cell_type": "code",
   "execution_count": 71,
   "metadata": {
    "ExecuteTime": {
     "end_time": "2018-06-12T18:38:23.118501Z",
     "start_time": "2018-06-12T18:38:23.112203Z"
    }
   },
   "outputs": [
    {
     "data": {
      "text/plain": [
       "[144, 132, 142, 133, 119, 16, 227, 242, 191, 367]"
      ]
     },
     "execution_count": 71,
     "metadata": {},
     "output_type": "execute_result"
    }
   ],
   "source": [
    "word_counts['AK']['Ketchikan']"
   ]
  },
  {
   "cell_type": "code",
   "execution_count": 38,
   "metadata": {
    "ExecuteTime": {
     "end_time": "2018-06-12T18:21:04.947610Z",
     "start_time": "2018-06-12T18:21:04.932587Z"
    }
   },
   "outputs": [
    {
     "data": {
      "text/plain": [
       "89415"
      ]
     },
     "execution_count": 38,
     "metadata": {},
     "output_type": "execute_result"
    }
   ],
   "source": [
    "np.max(word_counts_raw_all)"
   ]
  },
  {
   "cell_type": "code",
   "execution_count": 45,
   "metadata": {
    "ExecuteTime": {
     "end_time": "2018-06-12T18:23:31.695419Z",
     "start_time": "2018-06-12T18:23:30.618784Z"
    }
   },
   "outputs": [
    {
     "data": {
      "image/png": "[encoded data removed]",
      "text/plain": [
       "<Figure size 432x288 with 1 Axes>"
      ]
     },
     "metadata": {},
     "output_type": "display_data"
    }
   ],
   "source": [
    "plt.hist(word_counts_raw_all,bins=np.linspace(0,90000,51),log=True)\n",
    "plt.xlim(0,90000)\n",
    "plt.title('raw word counts')\n",
    "plt.ylabel('# articles')\n",
    "plt.xlabel('# words')\n",
    "plt.savefig('words_per_article_log.pdf')"
   ]
  },
  {
   "cell_type": "code",
   "execution_count": 50,
   "metadata": {
    "ExecuteTime": {
     "end_time": "2018-06-12T18:24:25.065067Z",
     "start_time": "2018-06-12T18:24:23.841397Z"
    }
   },
   "outputs": [
    {
     "data": {
      "image/png": "[encoded data removed]",
      "text/plain": [
       "<Figure size 432x288 with 1 Axes>"
      ]
     },
     "metadata": {},
     "output_type": "display_data"
    }
   ],
   "source": [
    "plt.hist(word_counts_all,bins=np.linspace(0,90000,51),log=True)\n",
    "plt.xlim(0,90000)\n",
    "plt.title('stem counts')\n",
    "plt.ylabel('# articles')\n",
    "plt.xlabel('# stems')\n",
    "plt.savefig('stems_per_article_log.pdf')"
   ]
  },
  {
   "cell_type": "code",
   "execution_count": null,
   "metadata": {},
   "outputs": [],
   "source": []
  },
  {
   "cell_type": "code",
   "execution_count": 57,
   "metadata": {
    "ExecuteTime": {
     "end_time": "2018-06-12T18:25:43.817270Z",
     "start_time": "2018-06-12T18:25:43.153017Z"
    }
   },
   "outputs": [
    {
     "data": {
      "text/plain": [
       "Text(0.5,0,'# words')"
      ]
     },
     "execution_count": 57,
     "metadata": {},
     "output_type": "execute_result"
    },
    {
     "data": {
      "image/png": "[encoded data removed]",
      "text/plain": [
       "<Figure size 432x288 with 1 Axes>"
      ]
     },
     "metadata": {},
     "output_type": "display_data"
    }
   ],
   "source": [
    "plt.hist(word_counts_raw_all,bins=np.linspace(0,9000,51),log=True)\n",
    "plt.xlim(0,9000)\n",
    "plt.title('raw word counts')\n",
    "plt.ylabel('# articles')\n",
    "plt.xlabel('# words')"
   ]
  },
  {
   "cell_type": "code",
   "execution_count": 53,
   "metadata": {
    "ExecuteTime": {
     "end_time": "2018-06-12T18:25:04.211164Z",
     "start_time": "2018-06-12T18:25:03.508846Z"
    }
   },
   "outputs": [
    {
     "data": {
      "text/plain": [
       "Text(0.5,0,'# stems')"
      ]
     },
     "execution_count": 53,
     "metadata": {},
     "output_type": "execute_result"
    },
    {
     "data": {
      "image/png": "[encoded data removed]",
      "text/plain": [
       "<Figure size 432x288 with 1 Axes>"
      ]
     },
     "metadata": {},
     "output_type": "display_data"
    }
   ],
   "source": [
    "plt.hist(word_counts_all,bins=np.linspace(0,9000,51),log=True)\n",
    "plt.xlim(0,9000)\n",
    "plt.title('stem counts')\n",
    "plt.ylabel('# articles')\n",
    "plt.xlabel('# stems')"
   ]
  },
  {
   "cell_type": "code",
   "execution_count": null,
   "metadata": {},
   "outputs": [],
   "source": []
  },
  {
   "cell_type": "code",
   "execution_count": 68,
   "metadata": {
    "ExecuteTime": {
     "end_time": "2018-06-12T18:28:56.475201Z",
     "start_time": "2018-06-12T18:28:55.535179Z"
    }
   },
   "outputs": [
    {
     "data": {
      "image/png": "[encoded data removed]",
      "text/plain": [
       "<Figure size 432x288 with 1 Axes>"
      ]
     },
     "metadata": {},
     "output_type": "display_data"
    }
   ],
   "source": [
    "nbins = 31\n",
    "xmax = 8000\n",
    "plt.hist(word_counts_raw_all,bins=np.linspace(0,xmax,nbins),log=True,histtype='step',lw=3,label='words')\n",
    "plt.hist(word_counts_all,bins=np.linspace(0,xmax,nbins),log=True,histtype='step',lw=3,label='stems')\n",
    "plt.xlim(0,xmax)\n",
    "plt.ylim(.8,)\n",
    "plt.title('stem counts')\n",
    "plt.ylabel('# articles')\n",
    "plt.xlabel('# stems')\n",
    "plt.grid()\n",
    "plt.legend()\n",
    "plt.savefig('wordstemcounts_log.pdf')"
   ]
  },
  {
   "cell_type": "code",
   "execution_count": 70,
   "metadata": {
    "ExecuteTime": {
     "end_time": "2018-06-12T18:29:23.152654Z",
     "start_time": "2018-06-12T18:29:22.758567Z"
    }
   },
   "outputs": [
    {
     "data": {
      "image/png": "[encoded data removed]",
      "text/plain": [
       "<Figure size 432x288 with 1 Axes>"
      ]
     },
     "metadata": {},
     "output_type": "display_data"
    }
   ],
   "source": [
    "nbins = 31\n",
    "xmax = 1000\n",
    "log = False\n",
    "plt.hist(word_counts_raw_all,bins=np.linspace(0,xmax,nbins),log=log,histtype='step',lw=3,label='words')\n",
    "plt.hist(word_counts_all,bins=np.linspace(0,xmax,nbins),log=log,histtype='step',lw=3,label='stems')\n",
    "plt.xlim(0,xmax)\n",
    "plt.ylim(.8,)\n",
    "plt.title('stem counts')\n",
    "plt.ylabel('# articles')\n",
    "plt.xlabel('# stems')\n",
    "plt.grid()\n",
    "plt.legend()\n",
    "plt.savefig('wordstemcounts_linear.pdf')"
   ]
  },
  {
   "cell_type": "code",
   "execution_count": null,
   "metadata": {},
   "outputs": [],
   "source": []
  },
  {
   "cell_type": "markdown",
   "metadata": {},
   "source": [
    "# save Exploratory data"
   ]
  },
  {
   "cell_type": "code",
   "execution_count": null,
   "metadata": {},
   "outputs": [],
   "source": [
    "exploratory_data = {\n",
    "    'papers': paper,\n",
    "    'paper_counts': paper_counts,\n",
    "    'raw_paper_counts': raw_paper_counts,\n",
    "    'article_counts': article_counts,\n",
    "    'raw_article_counts': raw_article_counts,\n",
    "    'word_counts_raw': word_counts_raw,\n",
    "    'word_counts': word_counts,\n",
    "    'word_counts_raw_all': word_counts_raw_all,\n",
    "    'word_counts_all': word_counts_all,\n",
    "}\n",
    "dill.dump(exploratory_data, open('exploratory_data.m','wb'))"
   ]
  },
  {
   "cell_type": "code",
   "execution_count": null,
   "metadata": {},
   "outputs": [],
   "source": []
  },
  {
   "cell_type": "code",
   "execution_count": 11,
   "metadata": {
    "ExecuteTime": {
     "end_time": "2018-06-12T22:00:13.228890Z",
     "start_time": "2018-06-12T22:00:13.192489Z"
    }
   },
   "outputs": [],
   "source": [
    "exploratory_data = dill.load(open('exploratory_data.m','rb'))"
   ]
  },
  {
   "cell_type": "code",
   "execution_count": 14,
   "metadata": {
    "ExecuteTime": {
     "end_time": "2018-06-12T22:00:57.677325Z",
     "start_time": "2018-06-12T22:00:57.670683Z"
    }
   },
   "outputs": [
    {
     "data": {
      "text/plain": [
       "['www.dailycal.org', 'www.berkeleydailyplanet.com', 'www.insidebayarea.com']"
      ]
     },
     "execution_count": 14,
     "metadata": {},
     "output_type": "execute_result"
    }
   ],
   "source": [
    "exploratory_data['papers']['CA']['Berkeley']"
   ]
  },
  {
   "cell_type": "markdown",
   "metadata": {},
   "source": [
    "# Select Towns"
   ]
  },
  {
   "cell_type": "code",
   "execution_count": 3,
   "metadata": {
    "ExecuteTime": {
     "end_time": "2018-06-22T15:26:02.673968Z",
     "start_time": "2018-06-22T15:26:02.636769Z"
    }
   },
   "outputs": [],
   "source": [
    "data = dill.load(open('exploratory_data.m','rb'))"
   ]
  },
  {
   "cell_type": "code",
   "execution_count": 4,
   "metadata": {
    "ExecuteTime": {
     "end_time": "2018-06-22T15:26:03.662749Z",
     "start_time": "2018-06-22T15:26:03.652454Z"
    }
   },
   "outputs": [],
   "source": [
    "ac = data['article_counts']\n",
    "statetns = []\n",
    "for st in ac.keys():\n",
    "    for tn in ac[st].keys():\n",
    "        statetns.append((st,tn,ac[st][tn][0]))"
   ]
  },
  {
   "cell_type": "code",
   "execution_count": 5,
   "metadata": {
    "ExecuteTime": {
     "end_time": "2018-06-22T15:26:04.384497Z",
     "start_time": "2018-06-22T15:26:04.372386Z"
    }
   },
   "outputs": [],
   "source": [
    "df = pd.DataFrame(statetns,columns=['state','town','num_articles'])"
   ]
  },
  {
   "cell_type": "code",
   "execution_count": 6,
   "metadata": {
    "ExecuteTime": {
     "end_time": "2018-06-22T15:26:04.917001Z",
     "start_time": "2018-06-22T15:26:04.905957Z"
    }
   },
   "outputs": [],
   "source": [
    "Nart = 2000\n",
    "df_art = df[df['num_articles']>Nart]"
   ]
  },
  {
   "cell_type": "code",
   "execution_count": 7,
   "metadata": {
    "ExecuteTime": {
     "end_time": "2018-06-22T15:26:06.005939Z",
     "start_time": "2018-06-22T15:26:05.369643Z"
    }
   },
   "outputs": [],
   "source": [
    "for st in df_art['state'].values:\n",
    "    df_art[df_art['state']==st]"
   ]
  },
  {
   "cell_type": "code",
   "execution_count": 9,
   "metadata": {
    "ExecuteTime": {
     "end_time": "2018-06-22T15:26:39.734613Z",
     "start_time": "2018-06-22T15:26:39.721385Z"
    }
   },
   "outputs": [
    {
     "data": {
      "text/html": [
       "<div>\n",
       "<style scoped>\n",
       "    .dataframe tbody tr th:only-of-type {\n",
       "        vertical-align: middle;\n",
       "    }\n",
       "\n",
       "    .dataframe tbody tr th {\n",
       "        vertical-align: top;\n",
       "    }\n",
       "\n",
       "    .dataframe thead th {\n",
       "        text-align: right;\n",
       "    }\n",
       "</style>\n",
       "<table border=\"1\" class=\"dataframe\">\n",
       "  <thead>\n",
       "    <tr style=\"text-align: right;\">\n",
       "      <th></th>\n",
       "      <th>state</th>\n",
       "      <th>town</th>\n",
       "      <th>num_articles</th>\n",
       "    </tr>\n",
       "  </thead>\n",
       "  <tbody>\n",
       "    <tr>\n",
       "      <th>742</th>\n",
       "      <td>CA</td>\n",
       "      <td>Stockton</td>\n",
       "      <td>10301</td>\n",
       "    </tr>\n",
       "  </tbody>\n",
       "</table>\n",
       "</div>"
      ],
      "text/plain": [
       "    state      town  num_articles\n",
       "742    CA  Stockton         10301"
      ]
     },
     "execution_count": 9,
     "metadata": {},
     "output_type": "execute_result"
    }
   ],
   "source": [
    "df_art[(df_art['state']=='CA')&(df_art['town']=='Stockton')]"
   ]
  },
  {
   "cell_type": "code",
   "execution_count": null,
   "metadata": {},
   "outputs": [],
   "source": []
  }
 ],
 "metadata": {
  "kernelspec": {
   "display_name": "Python 3",
   "language": "python",
   "name": "python3"
  },
  "language_info": {
   "codemirror_mode": {
    "name": "ipython",
    "version": 3
   },
   "file_extension": ".py",
   "mimetype": "text/x-python",
   "name": "python",
   "nbconvert_exporter": "python",
   "pygments_lexer": "ipython3",
   "version": "3.6.5"
  },
  "toc": {
   "base_numbering": 1,
   "nav_menu": {},
   "number_sections": true,
   "sideBar": true,
   "skip_h1_title": false,
   "title_cell": "Table of Contents",
   "title_sidebar": "Contents",
   "toc_cell": false,
   "toc_position": {
    "height": "calc(100% - 180px)",
    "left": "10px",
    "top": "150px",
    "width": "250px"
   },
   "toc_section_display": true,
   "toc_window_display": true
  },
  "varInspector": {
   "cols": {
    "lenName": 16,
    "lenType": 16,
    "lenVar": 40
   },
   "kernels_config": {
    "python": {
     "delete_cmd_postfix": "",
     "delete_cmd_prefix": "del ",
     "library": "var_list.py",
     "varRefreshCmd": "print(var_dic_list())"
    },
    "r": {
     "delete_cmd_postfix": ") ",
     "delete_cmd_prefix": "rm(",
     "library": "var_list.r",
     "varRefreshCmd": "cat(var_dic_list()) "
    }
   },
   "types_to_exclude": [
    "module",
    "function",
    "builtin_function_or_method",
    "instance",
    "_Feature"
   ],
   "window_display": false
  }
 },
 "nbformat": 4,
 "nbformat_minor": 2
}
