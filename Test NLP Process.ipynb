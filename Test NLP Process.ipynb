{
 "cells": [
  {
   "cell_type": "code",
   "execution_count": 1,
   "metadata": {
    "ExecuteTime": {
     "end_time": "2018-06-11T23:59:26.829776Z",
     "start_time": "2018-06-11T23:59:25.623063Z"
    }
   },
   "outputs": [],
   "source": [
    "# snippet from ~/Library/Jupyter/nbextensions/snippets/snippets.json\n",
    "# basic\n",
    "import numpy as np\n",
    "import matplotlib.pyplot as plt\n",
    "import pandas as pd\n",
    "%matplotlib inline\n",
    "import csv\n",
    "import os, sys\n",
    "import dill\n",
    "import seaborn as sns"
   ]
  },
  {
   "cell_type": "code",
   "execution_count": 2,
   "metadata": {
    "ExecuteTime": {
     "end_time": "2018-06-11T23:59:27.391118Z",
     "start_time": "2018-06-11T23:59:26.850906Z"
    }
   },
   "outputs": [],
   "source": [
    "from nltk.tokenize import RegexpTokenizer\n",
    "# re_tokenizer = RegexpTokenizer(r'\\w+')\n",
    "re_tokenizer = RegexpTokenizer(r'[a-zA-Z]+')"
   ]
  },
  {
   "cell_type": "markdown",
   "metadata": {},
   "source": [
    "# NLP Pre-processing Test"
   ]
  },
  {
   "cell_type": "markdown",
   "metadata": {},
   "source": [
    "## Get Article Text"
   ]
  },
  {
   "cell_type": "code",
   "execution_count": 3,
   "metadata": {
    "ExecuteTime": {
     "end_time": "2018-06-11T23:59:34.574877Z",
     "start_time": "2018-06-11T23:59:34.565310Z"
    }
   },
   "outputs": [],
   "source": [
    "alnc_path = '/Users/nknezek/Documents/Insight Local Folder/regional news/ALNC/Cleaned/NewspaperMapCorpus_03_03_2014_cleaned/'"
   ]
  },
  {
   "cell_type": "code",
   "execution_count": 69,
   "metadata": {
    "ExecuteTime": {
     "end_time": "2018-06-08T19:45:03.431417Z",
     "start_time": "2018-06-08T19:45:03.427023Z"
    }
   },
   "outputs": [],
   "source": [
    "filepath2 = alnc_path+'CA/Berkeley/www.berkeleydailyplanet.com/7-7-11-article0.cleaned'"
   ]
  },
  {
   "cell_type": "code",
   "execution_count": 15,
   "metadata": {
    "ExecuteTime": {
     "end_time": "2018-06-12T00:00:44.195100Z",
     "start_time": "2018-06-12T00:00:44.188730Z"
    }
   },
   "outputs": [],
   "source": [
    "filepath1 = alnc_path+'AK/Anchorage/www.adn.com/7-7-11-article1.cleaned'\n",
    "with open(filepath1, 'r') as content_file:\n",
    "    article = content_file.read()"
   ]
  },
  {
   "cell_type": "markdown",
   "metadata": {},
   "source": [
    "## Tokenize"
   ]
  },
  {
   "cell_type": "code",
   "execution_count": 44,
   "metadata": {
    "ExecuteTime": {
     "end_time": "2018-06-08T18:51:50.358078Z",
     "start_time": "2018-06-08T18:51:50.347732Z"
    }
   },
   "outputs": [
    {
     "data": {
      "text/plain": [
       "['july',\n",
       " 'august',\n",
       " 'sept',\n",
       " 'fly',\n",
       " 'august',\n",
       " 'sept',\n",
       " 'fly',\n",
       " 'out',\n",
       " 'haul',\n",
       " 'road',\n",
       " 'can',\n",
       " 'harvest',\n",
       " 'caribou',\n",
       " 'wolf',\n",
       " 'hunts',\n",
       " 'discounted',\n",
       " 'to',\n",
       " 'lowest',\n",
       " 'price',\n",
       " 'avail',\n",
       " 'moose',\n",
       " 'and',\n",
       " 'sheep',\n",
       " 'hunts',\n",
       " 'also',\n",
       " 'discounted',\n",
       " 'save',\n",
       " 'your',\n",
       " 'spot',\n",
       " 'call',\n",
       " 'today',\n",
       " 'arrowheadoutfitters',\n",
       " 'com',\n",
       " 'emailafriend']"
      ]
     },
     "execution_count": 44,
     "metadata": {},
     "output_type": "execute_result"
    }
   ],
   "source": [
    "tokens = re_tokenizer.tokenize(article.lower())\n",
    "tokens"
   ]
  },
  {
   "cell_type": "markdown",
   "metadata": {},
   "source": [
    "## Clean Stopwords"
   ]
  },
  {
   "cell_type": "code",
   "execution_count": 4,
   "metadata": {
    "ExecuteTime": {
     "end_time": "2018-06-11T23:59:41.989187Z",
     "start_time": "2018-06-11T23:59:41.985747Z"
    }
   },
   "outputs": [],
   "source": [
    "from nltk.corpus import stopwords"
   ]
  },
  {
   "cell_type": "code",
   "execution_count": 46,
   "metadata": {
    "ExecuteTime": {
     "end_time": "2018-06-08T18:51:55.068224Z",
     "start_time": "2018-06-08T18:51:55.061950Z"
    }
   },
   "outputs": [],
   "source": [
    "cleaned_tokens = []\n",
    "stop_words = set(stopwords.words('english'))\n",
    "for token in tokens:\n",
    "    if token not in stop_words:\n",
    "        cleaned_tokens.append(token)"
   ]
  },
  {
   "cell_type": "code",
   "execution_count": 47,
   "metadata": {
    "ExecuteTime": {
     "end_time": "2018-06-08T18:51:56.318367Z",
     "start_time": "2018-06-08T18:51:56.306847Z"
    }
   },
   "outputs": [
    {
     "data": {
      "text/plain": [
       "['july',\n",
       " 'august',\n",
       " 'sept',\n",
       " 'fly',\n",
       " 'august',\n",
       " 'sept',\n",
       " 'fly',\n",
       " 'haul',\n",
       " 'road',\n",
       " 'harvest',\n",
       " 'caribou',\n",
       " 'wolf',\n",
       " 'hunts',\n",
       " 'discounted',\n",
       " 'lowest',\n",
       " 'price',\n",
       " 'avail',\n",
       " 'moose',\n",
       " 'sheep',\n",
       " 'hunts',\n",
       " 'also',\n",
       " 'discounted',\n",
       " 'save',\n",
       " 'spot',\n",
       " 'call',\n",
       " 'today',\n",
       " 'arrowheadoutfitters',\n",
       " 'com',\n",
       " 'emailafriend']"
      ]
     },
     "execution_count": 47,
     "metadata": {},
     "output_type": "execute_result"
    }
   ],
   "source": [
    "cleaned_tokens"
   ]
  },
  {
   "cell_type": "markdown",
   "metadata": {},
   "source": [
    "## Stemming / Lemmatization"
   ]
  },
  {
   "cell_type": "code",
   "execution_count": 5,
   "metadata": {
    "ExecuteTime": {
     "end_time": "2018-06-11T23:59:47.040781Z",
     "start_time": "2018-06-11T23:59:47.036247Z"
    }
   },
   "outputs": [],
   "source": [
    "from nltk.stem.porter import PorterStemmer\n",
    "from nltk.stem.snowball import SnowballStemmer\n",
    "from nltk.stem.lancaster import LancasterStemmer\n",
    "from nltk.stem.wordnet import WordNetLemmatizer\n",
    "\n",
    "lemmatizer = WordNetLemmatizer()\n",
    "porter = PorterStemmer()\n",
    "snowball = SnowballStemmer('english')\n",
    "lancaster = LancasterStemmer()"
   ]
  },
  {
   "cell_type": "code",
   "execution_count": 49,
   "metadata": {
    "ExecuteTime": {
     "end_time": "2018-06-08T18:52:07.156314Z",
     "start_time": "2018-06-08T18:52:07.149304Z"
    }
   },
   "outputs": [],
   "source": [
    "stemmed_tokens = []\n",
    "# lemmatized_tokens = []\n",
    "\n",
    "for token in cleaned_tokens:\n",
    "    stemmed_tokens.append(snowball.stem(token))\n",
    "#     lemmatized_tokens.append(lemmatizer.lemmatize(token))"
   ]
  },
  {
   "cell_type": "code",
   "execution_count": 363,
   "metadata": {
    "ExecuteTime": {
     "end_time": "2018-06-11T23:23:13.597829Z",
     "start_time": "2018-06-11T23:23:13.585034Z"
    }
   },
   "outputs": [
    {
     "data": {
      "text/plain": [
       "'best'"
      ]
     },
     "execution_count": 363,
     "metadata": {},
     "output_type": "execute_result"
    }
   ],
   "source": [
    "lemmatizer.lemmatize('best')"
   ]
  },
  {
   "cell_type": "code",
   "execution_count": 50,
   "metadata": {
    "ExecuteTime": {
     "end_time": "2018-06-08T18:52:12.469430Z",
     "start_time": "2018-06-08T18:52:12.465367Z"
    }
   },
   "outputs": [],
   "source": [
    "# lemmatized_tokens"
   ]
  },
  {
   "cell_type": "code",
   "execution_count": 51,
   "metadata": {
    "ExecuteTime": {
     "end_time": "2018-06-08T18:52:13.330577Z",
     "start_time": "2018-06-08T18:52:13.322794Z"
    }
   },
   "outputs": [
    {
     "data": {
      "text/plain": [
       "['juli',\n",
       " 'august',\n",
       " 'sept',\n",
       " 'fli',\n",
       " 'august',\n",
       " 'sept',\n",
       " 'fli',\n",
       " 'haul',\n",
       " 'road',\n",
       " 'harvest',\n",
       " 'caribou',\n",
       " 'wolf',\n",
       " 'hunt',\n",
       " 'discount',\n",
       " 'lowest',\n",
       " 'price',\n",
       " 'avail',\n",
       " 'moos',\n",
       " 'sheep',\n",
       " 'hunt',\n",
       " 'also',\n",
       " 'discount',\n",
       " 'save',\n",
       " 'spot',\n",
       " 'call',\n",
       " 'today',\n",
       " 'arrowheadoutfitt',\n",
       " 'com',\n",
       " 'emailafriend']"
      ]
     },
     "execution_count": 51,
     "metadata": {},
     "output_type": "execute_result"
    }
   ],
   "source": [
    "stemmed_tokens"
   ]
  },
  {
   "cell_type": "markdown",
   "metadata": {},
   "source": [
    "## Count Vectorization"
   ]
  },
  {
   "cell_type": "code",
   "execution_count": 6,
   "metadata": {
    "ExecuteTime": {
     "end_time": "2018-06-11T23:59:51.302944Z",
     "start_time": "2018-06-11T23:59:51.296393Z"
    }
   },
   "outputs": [],
   "source": [
    "from sklearn.feature_extraction.text import CountVectorizer\n",
    "vectorizer = CountVectorizer()"
   ]
  },
  {
   "cell_type": "code",
   "execution_count": 53,
   "metadata": {
    "ExecuteTime": {
     "end_time": "2018-06-08T18:53:09.898306Z",
     "start_time": "2018-06-08T18:53:09.886304Z"
    }
   },
   "outputs": [],
   "source": [
    "# stem our example article\n",
    "stemmed_article = ' '.join(wd for wd in stemmed_tokens)\n",
    "\n",
    "# performe a count-based vectorization of the document\n",
    "article_vect = vectorizer.fit_transform([stemmed_article])"
   ]
  },
  {
   "cell_type": "code",
   "execution_count": 54,
   "metadata": {
    "ExecuteTime": {
     "end_time": "2018-06-08T18:53:12.724260Z",
     "start_time": "2018-06-08T18:53:12.717164Z"
    }
   },
   "outputs": [
    {
     "data": {
      "text/plain": [
       "<1x24 sparse matrix of type '<class 'numpy.int64'>'\n",
       "\twith 24 stored elements in Compressed Sparse Row format>"
      ]
     },
     "execution_count": 54,
     "metadata": {},
     "output_type": "execute_result"
    }
   ],
   "source": [
    "article_vect"
   ]
  },
  {
   "cell_type": "code",
   "execution_count": 56,
   "metadata": {
    "ExecuteTime": {
     "end_time": "2018-06-08T18:53:46.445385Z",
     "start_time": "2018-06-08T18:53:46.432338Z"
    }
   },
   "outputs": [
    {
     "name": "stdout",
     "output_type": "stream",
     "text": [
      "top 5 words for article\n",
      "[('august', 2), ('sept', 2), ('fli', 2), ('hunt', 2), ('discount', 2)]\n"
     ]
    }
   ],
   "source": [
    "freqs = [(word, article_vect.getcol(idx).sum()) for word, idx in vectorizer.vocabulary_.items()]\n",
    "print('top 5 words for article')\n",
    "print( sorted (freqs, key = lambda x: -x[1])[0:5])"
   ]
  },
  {
   "cell_type": "markdown",
   "metadata": {},
   "source": [
    "## filter out proper nouns"
   ]
  },
  {
   "cell_type": "code",
   "execution_count": 7,
   "metadata": {
    "ExecuteTime": {
     "end_time": "2018-06-11T23:59:56.129211Z",
     "start_time": "2018-06-11T23:59:56.124128Z"
    }
   },
   "outputs": [],
   "source": [
    "from nltk.corpus import words"
   ]
  },
  {
   "cell_type": "code",
   "execution_count": 346,
   "metadata": {
    "ExecuteTime": {
     "end_time": "2018-06-11T23:14:24.231517Z",
     "start_time": "2018-06-11T23:14:24.035505Z"
    }
   },
   "outputs": [
    {
     "data": {
      "text/plain": [
       "False"
      ]
     },
     "execution_count": 346,
     "metadata": {},
     "output_type": "execute_result"
    }
   ],
   "source": [
    "\"udon\" in words.words()"
   ]
  },
  {
   "cell_type": "code",
   "execution_count": 8,
   "metadata": {
    "ExecuteTime": {
     "end_time": "2018-06-11T23:59:58.785512Z",
     "start_time": "2018-06-11T23:59:58.779651Z"
    }
   },
   "outputs": [],
   "source": [
    "from nltk.corpus import wordnet"
   ]
  },
  {
   "cell_type": "code",
   "execution_count": 11,
   "metadata": {
    "ExecuteTime": {
     "end_time": "2018-06-12T00:00:10.488305Z",
     "start_time": "2018-06-12T00:00:10.478068Z"
    }
   },
   "outputs": [
    {
     "data": {
      "text/plain": [
       "True"
      ]
     },
     "execution_count": 11,
     "metadata": {},
     "output_type": "execute_result"
    }
   ],
   "source": [
    "\"betting\" in wordnet.words()"
   ]
  },
  {
   "cell_type": "markdown",
   "metadata": {},
   "source": [
    "## Pre-process pipeline"
   ]
  },
  {
   "cell_type": "markdown",
   "metadata": {},
   "source": [
    "### Tokenize, remove stopwords, stem"
   ]
  },
  {
   "cell_type": "code",
   "execution_count": 12,
   "metadata": {
    "ExecuteTime": {
     "end_time": "2018-06-12T00:00:13.443023Z",
     "start_time": "2018-06-12T00:00:13.435263Z"
    }
   },
   "outputs": [],
   "source": [
    "from nltk.corpus import stopwords\n",
    "stop_words = set(stopwords.words('english'))\n",
    "\n",
    "month_names = ['january','february','march','april','may','june','july','august','september','october','november','december']\n",
    "month_abbrv = ['jan','feb','mar','apr','may','jun','jul','aug','sep','oct','nov','dec','sept']\n",
    "day_names = ['sunday','monday','tuesday','wednesday','thursday','friday','saturday','sunday']\n",
    "day_abbrv = ['sun','mon','tue','wed','thu','fri','sat','sun','tues','weds','th','fr']\n",
    "\n",
    "stop_words = stop_words.union(month_names)\n",
    "stop_words = stop_words.union(month_abbrv)\n",
    "stop_words = stop_words.union(day_names)\n",
    "stop_words = stop_words.union(day_abbrv)"
   ]
  },
  {
   "cell_type": "code",
   "execution_count": 16,
   "metadata": {
    "ExecuteTime": {
     "end_time": "2018-06-12T00:00:51.644558Z",
     "start_time": "2018-06-12T00:00:51.517269Z"
    }
   },
   "outputs": [],
   "source": [
    "def tokenize_article_content(text_string, tokenizer=None, stop_words=None, stemmer=None, verbose=False, ):\n",
    "    \"\"\"\n",
    "    Simple preprocessing pipeline which uses RegExp, sets basic token requirements, and removes stop words.\n",
    "    \"\"\"\n",
    "#     print('preprocessing article text...')\n",
    "\n",
    "    # tokenizer, stops, and stemmer\n",
    "    if tokenizer is None:\n",
    "        tokenizer = RegexpTokenizer(r'[a-zA-Z]+')\n",
    "    if stop_words is None:\n",
    "        stop_words = set(stopwords.words('english'))  # can add more stop words to this set\n",
    "    if stemmer is None:\n",
    "        stemmer = SnowballStemmer('english')\n",
    "    \n",
    "    # process articles\n",
    "    cleaned_tokens = []\n",
    "    tokens = tokenizer.tokenize(text_string.lower())\n",
    "    for token in tokens:\n",
    "        if (token not in stop_words) and (token in wordnet.words()):\n",
    "            if len(token) > 0 and len(token) < 20: # removes non words\n",
    "                cleaned_tokens.append(stemmer.stem(token))\n",
    "    # add process article\n",
    "    if verbose:\n",
    "        print('{} tokens found'.format(len(cleaned_tokens)))\n",
    "    return ' '.join(wd for wd in cleaned_tokens)\n",
    "\n",
    "# process articles\n",
    "processed_article = tokenize_article_content(article, stop_words=stop_words)"
   ]
  },
  {
   "cell_type": "code",
   "execution_count": 17,
   "metadata": {
    "ExecuteTime": {
     "end_time": "2018-06-12T00:00:52.569646Z",
     "start_time": "2018-06-12T00:00:52.562280Z"
    }
   },
   "outputs": [
    {
     "data": {
      "text/plain": [
       "'fli fli haul road harvest caribou wolf lowest price avail moos sheep also save spot call today'"
      ]
     },
     "execution_count": 17,
     "metadata": {},
     "output_type": "execute_result"
    }
   ],
   "source": [
    "processed_article"
   ]
  },
  {
   "cell_type": "code",
   "execution_count": 18,
   "metadata": {
    "ExecuteTime": {
     "end_time": "2018-06-12T00:00:54.605319Z",
     "start_time": "2018-06-12T00:00:54.597699Z"
    }
   },
   "outputs": [],
   "source": [
    "def tokenize_several_articles(file_list,tokenizer=None, stop_words=None, stemmer=None,verbose=False):\n",
    "    clean_texts = []\n",
    "    for file_path in file_list:\n",
    "        try:\n",
    "            with open(file_path, 'r') as content_file:\n",
    "                raw_text = content_file.read()\n",
    "            clean_texts.append(tokenize_article_content(raw_text, stop_words=stop_words))\n",
    "        except:\n",
    "            pass\n",
    "    if verbose:\n",
    "        print('{} articles cleaned'.format(len(file_list)))\n",
    "    return clean_texts\n",
    "    "
   ]
  },
  {
   "cell_type": "code",
   "execution_count": 19,
   "metadata": {
    "ExecuteTime": {
     "end_time": "2018-06-12T00:00:58.029652Z",
     "start_time": "2018-06-12T00:00:57.877197Z"
    }
   },
   "outputs": [
    {
     "data": {
      "text/plain": [
       "['/Users/nknezek/Documents/Insight Local Folder/regional news/ALNC/Cleaned/NewspaperMapCorpus_03_03_2014_cleaned/AK/Anchorage/www.thebristolbaytimes.com/2014-1-28-article38.cleaned',\n",
       " '/Users/nknezek/Documents/Insight Local Folder/regional news/ALNC/Cleaned/NewspaperMapCorpus_03_03_2014_cleaned/AK/Anchorage/www.thebristolbaytimes.com/2014-1-28-article28.cleaned',\n",
       " '/Users/nknezek/Documents/Insight Local Folder/regional news/ALNC/Cleaned/NewspaperMapCorpus_03_03_2014_cleaned/AK/Anchorage/www.thebristolbaytimes.com/2013-9-21-article1.cleaned',\n",
       " '/Users/nknezek/Documents/Insight Local Folder/regional news/ALNC/Cleaned/NewspaperMapCorpus_03_03_2014_cleaned/AK/Anchorage/www.thebristolbaytimes.com/2014-1-21-article60.cleaned']"
      ]
     },
     "execution_count": 19,
     "metadata": {},
     "output_type": "execute_result"
    }
   ],
   "source": [
    "state = 'AK/'\n",
    "town = 'Anchorage/'\n",
    "statetown = state+town\n",
    "def get_filenames_for_town(alnc_path, statetown, verbose=False):\n",
    "    papers = os.listdir(alnc_path+statetown)\n",
    "    files_list = []\n",
    "    for p in papers:\n",
    "        files_p = os.listdir(alnc_path+statetown+p)\n",
    "        files_list += [alnc_path+statetown+p+'/'+x for x in files_p]\n",
    "    if verbose:\n",
    "        print('{} files found for {}'.format(len(files_list),statetown))\n",
    "    return files_list\n",
    "\n",
    "file_list = get_filenames_for_town(alnc_path,statetown)\n",
    "file_list[:4]"
   ]
  },
  {
   "cell_type": "code",
   "execution_count": 23,
   "metadata": {
    "ExecuteTime": {
     "end_time": "2018-06-12T00:02:16.831011Z",
     "start_time": "2018-06-12T00:02:16.824636Z"
    }
   },
   "outputs": [],
   "source": [
    "def process_towns(alnc_path,statetowns,tokenizer=None, stop_words=None, stemmer=None,verbose=False):\n",
    "    tokenized_articles = []\n",
    "    labels = []\n",
    "    for i,st in enumerate(statetowns):\n",
    "        files = get_filenames_for_town(alnc_path,st,verbose=verbose)\n",
    "        tokenized_articles += tokenize_several_articles(files,tokenizer=tokenizer, stop_words=stop_words, stemmer=stemmer)\n",
    "        labels += [i]*len(files)\n",
    "    return labels, tokenized_articles"
   ]
  },
  {
   "cell_type": "code",
   "execution_count": null,
   "metadata": {
    "ExecuteTime": {
     "start_time": "2018-06-12T00:02:22.369Z"
    }
   },
   "outputs": [
    {
     "name": "stdout",
     "output_type": "stream",
     "text": [
      "14392 files found for AK/Anchorage/\n"
     ]
    }
   ],
   "source": [
    "statetowns = ['AK/Anchorage/','CA/Berkeley/', 'TX/Denton/']\n",
    "\n",
    "tokenizer = RegexpTokenizer(r'[a-zA-Z]+')\n",
    "stemmer = SnowballStemmer('english')\n",
    "\n",
    "labels,tokenized_articles = process_towns(alnc_path,statetowns,stop_words=stop_words,verbose=True)"
   ]
  },
  {
   "cell_type": "code",
   "execution_count": 193,
   "metadata": {
    "ExecuteTime": {
     "end_time": "2018-06-11T20:08:52.724454Z",
     "start_time": "2018-06-11T20:08:52.716887Z"
    }
   },
   "outputs": [
    {
     "data": {
      "text/plain": [
       "46958"
      ]
     },
     "execution_count": 193,
     "metadata": {},
     "output_type": "execute_result"
    }
   ],
   "source": [
    "len(tokenized_articles)"
   ]
  },
  {
   "cell_type": "code",
   "execution_count": 199,
   "metadata": {
    "ExecuteTime": {
     "end_time": "2018-06-11T20:10:44.843131Z",
     "start_time": "2018-06-11T20:10:20.582435Z"
    }
   },
   "outputs": [
    {
     "name": "stdout",
     "output_type": "stream",
     "text": [
      "(46958, 115408)\n"
     ]
    }
   ],
   "source": [
    "# vectorize the articles and compute count matrix\n",
    "from sklearn.feature_extraction.text import TfidfVectorizer\n",
    "tf_vectorizer = TfidfVectorizer()\n",
    "tfidf_article_matrix = tf_vectorizer.fit_transform(tokenized_articles)\n",
    "print( tfidf_article_matrix.shape)"
   ]
  },
  {
   "cell_type": "code",
   "execution_count": 203,
   "metadata": {
    "ExecuteTime": {
     "end_time": "2018-06-11T20:13:57.244245Z",
     "start_time": "2018-06-11T20:13:57.001848Z"
    }
   },
   "outputs": [],
   "source": [
    "dill.dump(tfidf_article_matrix,open('tfidf_3citytest.m','wb'))"
   ]
  },
  {
   "cell_type": "markdown",
   "metadata": {},
   "source": [
    "# PCA of TF-IDF vectors"
   ]
  },
  {
   "cell_type": "code",
   "execution_count": 232,
   "metadata": {
    "ExecuteTime": {
     "end_time": "2018-06-11T22:24:49.761979Z",
     "start_time": "2018-06-11T22:24:49.734195Z"
    }
   },
   "outputs": [],
   "source": [
    "from sklearn import decomposition"
   ]
  },
  {
   "cell_type": "code",
   "execution_count": 329,
   "metadata": {
    "ExecuteTime": {
     "end_time": "2018-06-11T22:55:34.066655Z",
     "start_time": "2018-06-11T22:55:29.885245Z"
    }
   },
   "outputs": [],
   "source": [
    "pca = decomposition.TruncatedSVD(n_components=3)\n",
    "pca.fit(tfidf_article_matrix)\n",
    "X = pca.transform(tfidf_article_matrix)"
   ]
  },
  {
   "cell_type": "code",
   "execution_count": 330,
   "metadata": {
    "ExecuteTime": {
     "end_time": "2018-06-11T22:55:36.162411Z",
     "start_time": "2018-06-11T22:55:36.156093Z"
    }
   },
   "outputs": [
    {
     "data": {
      "text/plain": [
       "(46958, 3)"
      ]
     },
     "execution_count": 330,
     "metadata": {},
     "output_type": "execute_result"
    }
   ],
   "source": [
    "X.shape"
   ]
  },
  {
   "cell_type": "code",
   "execution_count": 331,
   "metadata": {
    "ExecuteTime": {
     "end_time": "2018-06-11T22:55:38.321550Z",
     "start_time": "2018-06-11T22:55:38.315632Z"
    }
   },
   "outputs": [],
   "source": [
    "import ipyvolume as ipv"
   ]
  },
  {
   "cell_type": "code",
   "execution_count": 332,
   "metadata": {
    "ExecuteTime": {
     "end_time": "2018-06-11T22:55:40.432616Z",
     "start_time": "2018-06-11T22:55:40.423801Z"
    }
   },
   "outputs": [
    {
     "data": {
      "text/plain": [
       "(46958, 3)"
      ]
     },
     "execution_count": 332,
     "metadata": {},
     "output_type": "execute_result"
    }
   ],
   "source": [
    "X.shape"
   ]
  },
  {
   "cell_type": "code",
   "execution_count": 333,
   "metadata": {
    "ExecuteTime": {
     "end_time": "2018-06-11T22:55:42.699481Z",
     "start_time": "2018-06-11T22:55:42.689839Z"
    }
   },
   "outputs": [
    {
     "data": {
      "text/plain": [
       "46958"
      ]
     },
     "execution_count": 333,
     "metadata": {},
     "output_type": "execute_result"
    }
   ],
   "source": [
    "len(labels)"
   ]
  },
  {
   "cell_type": "code",
   "execution_count": 337,
   "metadata": {
    "ExecuteTime": {
     "end_time": "2018-06-11T22:56:38.540004Z",
     "start_time": "2018-06-11T22:56:38.467011Z"
    }
   },
   "outputs": [
    {
     "data": {
      "application/vnd.jupyter.widget-view+json": {
       "model_id": "0267a96e2cad40c3bf2188cb3b0ab1d4",
       "version_major": 2,
       "version_minor": 0
      },
      "text/plain": [
       "VBox(children=(Figure(camera_center=[0.0, 0.0, 0.0], height=500, matrix_projection=[0.0, 0.0, 0.0, 0.0, 0.0, 0…"
      ]
     },
     "metadata": {},
     "output_type": "display_data"
    }
   ],
   "source": [
    "fig = ipv.figure()\n",
    "colorvals = (np.array(labels[::1])+.05)/2.1\n",
    "colors = plt.cm.Spectral(colorvals)\n",
    "scatter = ipv.scatter(X[::1,0], X[::1,1], X[::1,2], marker='sphere',size=.3,color=colors[:,:3])\n",
    "ipv.show()"
   ]
  },
  {
   "cell_type": "code",
   "execution_count": 338,
   "metadata": {
    "ExecuteTime": {
     "end_time": "2018-06-11T22:56:54.672667Z",
     "start_time": "2018-06-11T22:56:54.617830Z"
    }
   },
   "outputs": [],
   "source": [
    "ipv.save(\"3city_scatter.html\")"
   ]
  },
  {
   "cell_type": "markdown",
   "metadata": {
    "ExecuteTime": {
     "end_time": "2018-06-11T16:26:40.862860Z",
     "start_time": "2018-06-11T16:26:40.858396Z"
    }
   },
   "source": [
    "# Train model"
   ]
  },
  {
   "cell_type": "code",
   "execution_count": 200,
   "metadata": {
    "ExecuteTime": {
     "end_time": "2018-06-11T20:12:49.598750Z",
     "start_time": "2018-06-11T20:12:49.593986Z"
    }
   },
   "outputs": [],
   "source": [
    "from sklearn.model_selection import train_test_split\n",
    "from sklearn.feature_extraction.text import CountVectorizer, TfidfVectorizer"
   ]
  },
  {
   "cell_type": "code",
   "execution_count": 204,
   "metadata": {
    "ExecuteTime": {
     "end_time": "2018-06-11T20:14:18.161220Z",
     "start_time": "2018-06-11T20:14:17.882813Z"
    }
   },
   "outputs": [],
   "source": [
    "RANDOM_STATE = 777\n",
    "X_train, X_test, y_train, y_test = train_test_split(tfidf_article_matrix, labels, test_size=0.2, random_state=RANDOM_STATE)"
   ]
  },
  {
   "cell_type": "code",
   "execution_count": 205,
   "metadata": {
    "ExecuteTime": {
     "end_time": "2018-06-11T20:14:29.472574Z",
     "start_time": "2018-06-11T20:14:29.463217Z"
    }
   },
   "outputs": [
    {
     "data": {
      "text/plain": [
       "(37566, 115408)"
      ]
     },
     "execution_count": 205,
     "metadata": {},
     "output_type": "execute_result"
    }
   ],
   "source": [
    "X_train.shape"
   ]
  },
  {
   "cell_type": "code",
   "execution_count": 211,
   "metadata": {
    "ExecuteTime": {
     "end_time": "2018-06-11T20:23:54.383899Z",
     "start_time": "2018-06-11T20:23:54.377621Z"
    }
   },
   "outputs": [],
   "source": [
    "from sklearn.linear_model import LogisticRegression\n",
    "from sklearn.model_selection import train_test_split, learning_curve, validation_curve, GridSearchCV"
   ]
  },
  {
   "cell_type": "code",
   "execution_count": 212,
   "metadata": {
    "ExecuteTime": {
     "end_time": "2018-06-11T20:23:56.740362Z",
     "start_time": "2018-06-11T20:23:56.733980Z"
    }
   },
   "outputs": [],
   "source": [
    "# Look up newton-cg. Naive bayes\n",
    "estimator = LogisticRegression(class_weight='balanced',\n",
    "                               solver='newton-cg',\n",
    "                               multi_class='multinomial',\n",
    "                               n_jobs=-1,\n",
    "                               random_state=RANDOM_STATE)"
   ]
  },
  {
   "cell_type": "code",
   "execution_count": 215,
   "metadata": {
    "ExecuteTime": {
     "end_time": "2018-06-11T20:33:30.010781Z",
     "start_time": "2018-06-11T20:25:01.260479Z"
    }
   },
   "outputs": [
    {
     "name": "stdout",
     "output_type": "stream",
     "text": [
      "0.99 0.9845871266570835\n"
     ]
    }
   ],
   "source": [
    "grid = {\n",
    "    'C': np.linspace(0.01, 0.99, 10)\n",
    "}\n",
    "classifier = GridSearchCV(estimator=estimator, param_grid=grid)\n",
    "classifier.fit(X_train, y_train)\n",
    "best_C = classifier.best_estimator_.C\n",
    "print(best_C, classifier.best_score_)"
   ]
  },
  {
   "cell_type": "code",
   "execution_count": 219,
   "metadata": {
    "ExecuteTime": {
     "end_time": "2018-06-11T21:07:23.645206Z",
     "start_time": "2018-06-11T21:07:23.632540Z"
    }
   },
   "outputs": [],
   "source": [
    "def plot_validation_curve(estimator, title, X, y, ylim=None, cv=None,\n",
    "                        n_jobs=1, param_range=np.linspace(.1, 1.0, 5)):\n",
    "    \"\"\"\n",
    "    http://scikit-learn.org/stable/auto_examples/model_selection/plot_validation_curve.html\n",
    "    \"\"\"\n",
    "    plt.figure()\n",
    "    plt.title(title)\n",
    "    if ylim is not None:\n",
    "        plt.ylim(*ylim)\n",
    "    plt.xlabel(\"C (1 / regularization strength)\")\n",
    "    plt.ylabel(\"Accuracy score\")\n",
    "    train_scores, test_scores = validation_curve(\n",
    "        estimator, X, y, \"C\", cv=cv, n_jobs=n_jobs, param_range=param_range, scoring=\"accuracy\")\n",
    "    train_scores_mean = np.mean(train_scores, axis=1)\n",
    "    train_scores_std = np.std(train_scores, axis=1)\n",
    "    test_scores_mean = np.mean(test_scores, axis=1)\n",
    "    test_scores_std = np.std(test_scores, axis=1)\n",
    "\n",
    "    plt.grid()\n",
    "\n",
    "    plt.semilogx(param_range, train_scores_mean, 'o-', label=\"Training score\",\n",
    "                 color=\"darkorange\")\n",
    "    plt.fill_between(param_range, train_scores_mean - (2*train_scores_std),\n",
    "                 train_scores_mean + (2*train_scores_std), alpha=0.2,\n",
    "                 color=\"darkorange\")\n",
    "    plt.semilogx(param_range, test_scores_mean, 'o-', label=\"Cross-validation score\",\n",
    "                 color=\"navy\")\n",
    "    plt.fill_between(param_range, test_scores_mean - (2*test_scores_std),\n",
    "                 test_scores_mean + (2*test_scores_std), alpha=0.2,\n",
    "                 color=\"navy\")\n",
    "\n",
    "    plt.legend(loc=\"best\")\n",
    "    return plt"
   ]
  },
  {
   "cell_type": "code",
   "execution_count": 222,
   "metadata": {
    "ExecuteTime": {
     "end_time": "2018-06-11T22:05:30.557460Z",
     "start_time": "2018-06-11T21:50:53.125379Z"
    }
   },
   "outputs": [
    {
     "data": {
      "image/png": "[encoded data removed]",
      "text/plain": [
       "<Figure size 432x288 with 1 Axes>"
      ]
     },
     "metadata": {},
     "output_type": "display_data"
    }
   ],
   "source": [
    "sns.set_context(\"talk\", font_scale=1.0)\n",
    "title = \"Validation Curve\"\n",
    "plot_validation_curve(estimator,\n",
    "                      title=title,\n",
    "                      X=X_train,\n",
    "                      y=y_train,\n",
    "                      param_range=np.logspace(-4, 8, 15))\n",
    "plt.axvline(x=best_C)\n",
    "plt.text(0.61,0.625,\"C = {0:.4f}\".format(best_C))\n",
    "plt.show()"
   ]
  },
  {
   "cell_type": "code",
   "execution_count": 223,
   "metadata": {
    "ExecuteTime": {
     "end_time": "2018-06-11T22:18:40.860383Z",
     "start_time": "2018-06-11T22:18:40.828248Z"
    }
   },
   "outputs": [
    {
     "data": {
      "text/plain": [
       "<Figure size 432x288 with 0 Axes>"
      ]
     },
     "metadata": {},
     "output_type": "display_data"
    }
   ],
   "source": [
    "plt.savefig('train_vs_cross_valid.pdf')"
   ]
  },
  {
   "cell_type": "code",
   "execution_count": null,
   "metadata": {},
   "outputs": [],
   "source": []
  }
 ],
 "metadata": {
  "kernelspec": {
   "display_name": "Python 3",
   "language": "python",
   "name": "python3"
  },
  "language_info": {
   "codemirror_mode": {
    "name": "ipython",
    "version": 3
   },
   "file_extension": ".py",
   "mimetype": "text/x-python",
   "name": "python",
   "nbconvert_exporter": "python",
   "pygments_lexer": "ipython3",
   "version": "3.6.5"
  },
  "toc": {
   "base_numbering": 1,
   "nav_menu": {},
   "number_sections": true,
   "sideBar": true,
   "skip_h1_title": false,
   "title_cell": "Table of Contents",
   "title_sidebar": "Contents",
   "toc_cell": false,
   "toc_position": {
    "height": "calc(100% - 180px)",
    "left": "10px",
    "top": "150px",
    "width": "258px"
   },
   "toc_section_display": true,
   "toc_window_display": true
  },
  "varInspector": {
   "cols": {
    "lenName": 16,
    "lenType": 16,
    "lenVar": 40
   },
   "kernels_config": {
    "python": {
     "delete_cmd_postfix": "",
     "delete_cmd_prefix": "del ",
     "library": "var_list.py",
     "varRefreshCmd": "print(var_dic_list())"
    },
    "r": {
     "delete_cmd_postfix": ") ",
     "delete_cmd_prefix": "rm(",
     "library": "var_list.r",
     "varRefreshCmd": "cat(var_dic_list()) "
    }
   },
   "types_to_exclude": [
    "module",
    "function",
    "builtin_function_or_method",
    "instance",
    "_Feature"
   ],
   "window_display": false
  }
 },
 "nbformat": 4,
 "nbformat_minor": 2
}
